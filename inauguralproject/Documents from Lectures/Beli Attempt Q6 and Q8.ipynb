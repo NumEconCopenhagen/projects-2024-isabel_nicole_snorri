{
 "cells": [
  {
   "cell_type": "markdown",
   "metadata": {},
   "source": [
    "**Q6 a) Find the Utilitarian social planner allocation**\n"
   ]
  },
  {
   "cell_type": "markdown",
   "metadata": {},
   "source": [
    "**Solving Q6 a)**: The first step in the maximization problem is to define the utilitarian social utility function that consists of summing agents' A and B utilities- the aggregate utility. \n",
    "\n",
    "After that we need to solve the maximization problem using an optimizer like scipy.optimize.minimize to find the allocation that maximizes the aggregate utility. To do so, we need to deine the objective function, which in this case is the  negative of the aggregate_utility because scipy.optimize.minimize minimizes rather than maximizes.\n",
    "\n",
    "Using this optimizer, we needed to start with an initial guess. In this case we decided to start with the \"middle point\", where A and B allocations of good 1 and 2 is 0.5. "
   ]
  },
  {
   "cell_type": "code",
   "execution_count": 28,
   "metadata": {},
   "outputs": [
    {
     "name": "stdout",
     "output_type": "stream",
     "text": [
      "Optimal allocation for A: x1A=0.3333333659693852, x2A=0.6666666260640767\n",
      "Optimal allocation for B: x1B=0.6666666340306149, x2B=0.3333333739359233\n"
     ]
    }
   ],
   "source": [
    "\n",
    "import numpy as np #REMOVE THIS WHEN PALCING IN THE GENERAL NOTEBOOK, AS IT HAS ALREADY BEEN DONE\n",
    "from ExchangeEconomy import ExchangeEconomyClass #REMOVE THIS WHEN PALCING IN THE GENERAL NOTEBOOK, AS IT HAS ALREADY BEEN DONE\n",
    "model = ExchangeEconomyClass() #REMOVE THIS WHEN PALCING IN THE GENERAL NOTEBOOK, AS IT HAS ALREADY BEEN DONE\n",
    "\n",
    "# Defining the utilitarian aggregate utility function\n",
    "def aggregate_utility(x):\n",
    "    x1A, x2A = x\n",
    "    x1B, x2B = 1 - x1A, 1 - x2A  # B's allocation is what remains from A's allocation\n",
    "    utility_A = model.utility_A(x1A, x2A)\n",
    "    utility_B = model.utility_B(x1B, x2B)\n",
    "    return utility_A + utility_B\n",
    "\n",
    "# Defining the objective function\n",
    "def objective(x):\n",
    "    return -aggregate_utility(x)\n",
    "\n",
    "# Bounds for x1A and x2A- have to be between 0 and 1\n",
    "bounds = [(0, 1), (0, 1)]\n",
    "\n",
    "# Initial guess- a guess is needed to initialize the optmizer\n",
    "initial_guess = [0.5, 0.5]\n",
    "\n",
    "from scipy.optimize import minimize \n",
    "\n",
    "# Solve the optimization problem\n",
    "result = minimize(objective, initial_guess, bounds=bounds)\n",
    "\n",
    "social_opt_x1A = result.x[0]\n",
    "social_opt_x2A = result.x[1]\n",
    "social_opt_x1B = 1-result.x[0]\n",
    "social_opt_x2B = 1-result.x[1]\n",
    "\n",
    "# Print the optimal allocation for A and the derived allocation for B\n",
    "print(f\"Optimal allocation for A: x1A={social_opt_x1A}, x2A={social_opt_x2A}\")\n",
    "print(f\"Optimal allocation for B: x1B={social_opt_x1B}, x2B={social_opt_x2B}\")"
   ]
  },
  {
   "cell_type": "code",
   "execution_count": null,
   "metadata": {},
   "outputs": [],
   "source": []
  }
 ],
 "metadata": {
  "kernelspec": {
   "display_name": "base",
   "language": "python",
   "name": "python3"
  },
  "language_info": {
   "codemirror_mode": {
    "name": "ipython",
    "version": 3
   },
   "file_extension": ".py",
   "mimetype": "text/x-python",
   "name": "python",
   "nbconvert_exporter": "python",
   "pygments_lexer": "ipython3",
   "version": "3.11.7"
  },
  "orig_nbformat": 4,
  "vscode": {
   "interpreter": {
    "hash": "47ef90cdf3004d3f859f1fb202523c65c07ba7c22eefd261b181f4744e2d0403"
   }
  }
 },
 "nbformat": 4,
 "nbformat_minor": 2
}
