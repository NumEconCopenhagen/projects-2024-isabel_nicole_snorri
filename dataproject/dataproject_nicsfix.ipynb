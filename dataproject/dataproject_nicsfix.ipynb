{
 "cells": [
  {
   "cell_type": "markdown",
   "metadata": {},
   "source": [
    "# CORRELATIONS: POWERFUL OR MEANINGLESS?"
   ]
  },
  {
   "cell_type": "markdown",
   "metadata": {},
   "source": [
    "# Table of Contents <a id='toc0'></a>  \n",
    "- 1. [Introduction](#toc1) \n",
    "- 2. [Data Description](#toc2)  \n",
    "  - 2.1. [Importing](#toc2_1)  \n",
    "  - 2.2. [Cleaning](#toc2_2)\n",
    "  - 2.3. [Merging](#toc2_3)  \n",
    "- 3. [Plotting and Correlations](#toc3)   \n",
    "- 4. [Conclusion](#toc4)   "
   ]
  },
  {
   "cell_type": "markdown",
   "metadata": {},
   "source": [
    "## 1. <a id='toc1'></a>[Introduction](#toc0)"
   ]
  },
  {
   "cell_type": "markdown",
   "metadata": {},
   "source": [
    "**Correlation** is a statistical measure that describes the extent to which two variables move together:\n",
    "    \n",
    "- If the value of one variable increases as the other increases, the correlation is positive;\n",
    " \n",
    "- If one decreases as the other increases, the correlation is negative.\n",
    "\n",
    "When statistically significant correlation results are found, interesting conclusions can be drawn. \n",
    "\n",
    "However, correlations can be misleading... Not all correlations imply causality! Some correlations might be coincidental or due to an unseen third factor, leading to **spurious relationships**.\n",
    "\n",
    "The aim of this project is to illustrate how correlations can be both powerful and tricky, through the correlation analysis of two pairs of variables: \n",
    "\n",
    "- U.S. GDP per capita and Life Expectancy - Two variables that we can find strong potential reasons to move together.\n",
    "- World Chicken production and Percentage of Individuals Using the Internet - two variables that seem to be independent of each other. \n"
   ]
  },
  {
   "cell_type": "markdown",
   "metadata": {},
   "source": [
    "## 2. <a id='toc2'></a>[Data Description](#toc0)"
   ]
  },
  {
   "cell_type": "markdown",
   "metadata": {},
   "source": [
    "All the data used in this project were extracted from Our World in Data, and then transferred to the Data folder in this repository, in April 2024: \n",
    "- Chicken Production (per tonne):  https://ourworldindata.org/grapher/chicken-meat-production?tab=chart \n",
    "- Adoption of communication technologies per 100 people : https://ourworldindata.org/grapher/ict-adoption-per-100-people \n",
    "- GDP per Capita: https://ourworldindata.org/grapher/gdp-per-capita-maddison?tab=chart\n",
    "- Life expectancy: https://ourworldindata.org/grapher/life-expectancy"
   ]
  },
  {
   "cell_type": "markdown",
   "metadata": {},
   "source": [
    "### 2.1. <a id='toc2_1'></a>[Importing](#toc0)"
   ]
  },
  {
   "cell_type": "code",
   "execution_count": 417,
   "metadata": {},
   "outputs": [],
   "source": [
    "import pandas as pd\n",
    "\n",
    "import matplotlib.pyplot as plt\n",
    "plt.rcParams.update({\"axes.grid\":True,\"grid.color\":\"black\",\"grid.alpha\":\"0.25\",\"grid.linestyle\":\"--\"})\n",
    "plt.rcParams.update({'font.size': 14})\n"
   ]
  },
  {
   "cell_type": "code",
   "execution_count": 418,
   "metadata": {},
   "outputs": [
    {
     "data": {
      "text/plain": [
       "['life-expectancy.xlsx',\n",
       " 'gdp-per-capita-maddison.xlsx',\n",
       " 'ict-adoption-per-100-people.xlsx',\n",
       " 'chicken-meat-production.xlsx']"
      ]
     },
     "execution_count": 418,
     "metadata": {},
     "output_type": "execute_result"
    }
   ],
   "source": [
    "# Importing datasets\n",
    "import os \n",
    "\n",
    "# Using assert to check that paths exist on computer.\n",
    "assert os.path.isdir('data/')\n",
    "assert os.path.isfile('data/chicken-meat-production.xlsx')\n",
    "assert os.path.isfile('data/ict-adoption-per-100-people.xlsx')\n",
    "assert os.path.isfile ('data/gdp-per-capita-maddison.xlsx')\n",
    "assert os.path.isfile ('data/life-expectancy.xlsx')\n",
    "\n",
    "# Print everything in data\n",
    "os.listdir('data/')"
   ]
  },
  {
   "cell_type": "markdown",
   "metadata": {},
   "source": [
    "### 2.2. <a id='toc2_2'></a>[Cleaning](#toc0)"
   ]
  },
  {
   "cell_type": "markdown",
   "metadata": {},
   "source": [
    "In this section, we clean up the data in terms of columns and rows, removing unncessary data points and making the datasets usable in python. \n",
    "\n",
    "We used the py file called **DataProject.py** to define a class called **DataCleaner**. This class will allow to replicate our  data cleaning methods across out four files. "
   ]
  },
  {
   "cell_type": "code",
   "execution_count": 419,
   "metadata": {},
   "outputs": [],
   "source": [
    "from dataproject import DataCleaner"
   ]
  },
  {
   "cell_type": "markdown",
   "metadata": {},
   "source": [
    "# Chicken Production Data"
   ]
  },
  {
   "cell_type": "code",
   "execution_count": 420,
   "metadata": {},
   "outputs": [
    {
     "data": {
      "text/html": [
       "<div>\n",
       "<style scoped>\n",
       "    .dataframe tbody tr th:only-of-type {\n",
       "        vertical-align: middle;\n",
       "    }\n",
       "\n",
       "    .dataframe tbody tr th {\n",
       "        vertical-align: top;\n",
       "    }\n",
       "\n",
       "    .dataframe thead th {\n",
       "        text-align: right;\n",
       "    }\n",
       "</style>\n",
       "<table border=\"1\" class=\"dataframe\">\n",
       "  <thead>\n",
       "    <tr style=\"text-align: right;\">\n",
       "      <th></th>\n",
       "      <th>chicken-meat-production</th>\n",
       "      <th>Unnamed: 1</th>\n",
       "      <th>Unnamed: 2</th>\n",
       "      <th>Unnamed: 3</th>\n",
       "    </tr>\n",
       "  </thead>\n",
       "  <tbody>\n",
       "    <tr>\n",
       "      <th>0</th>\n",
       "      <td>Entity</td>\n",
       "      <td>Code</td>\n",
       "      <td>Year</td>\n",
       "      <td>Meat, chicken | 00001058 || Production | 00551...</td>\n",
       "    </tr>\n",
       "    <tr>\n",
       "      <th>1</th>\n",
       "      <td>Afghanistan</td>\n",
       "      <td>AFG</td>\n",
       "      <td>1961</td>\n",
       "      <td>5600</td>\n",
       "    </tr>\n",
       "    <tr>\n",
       "      <th>2</th>\n",
       "      <td>Afghanistan</td>\n",
       "      <td>AFG</td>\n",
       "      <td>1962</td>\n",
       "      <td>6000</td>\n",
       "    </tr>\n",
       "    <tr>\n",
       "      <th>3</th>\n",
       "      <td>Afghanistan</td>\n",
       "      <td>AFG</td>\n",
       "      <td>1963</td>\n",
       "      <td>6160</td>\n",
       "    </tr>\n",
       "    <tr>\n",
       "      <th>4</th>\n",
       "      <td>Afghanistan</td>\n",
       "      <td>AFG</td>\n",
       "      <td>1964</td>\n",
       "      <td>6400</td>\n",
       "    </tr>\n",
       "    <tr>\n",
       "      <th>5</th>\n",
       "      <td>Afghanistan</td>\n",
       "      <td>AFG</td>\n",
       "      <td>1965</td>\n",
       "      <td>6800</td>\n",
       "    </tr>\n",
       "    <tr>\n",
       "      <th>6</th>\n",
       "      <td>Afghanistan</td>\n",
       "      <td>AFG</td>\n",
       "      <td>1966</td>\n",
       "      <td>7200</td>\n",
       "    </tr>\n",
       "    <tr>\n",
       "      <th>7</th>\n",
       "      <td>Afghanistan</td>\n",
       "      <td>AFG</td>\n",
       "      <td>1967</td>\n",
       "      <td>7600</td>\n",
       "    </tr>\n",
       "    <tr>\n",
       "      <th>8</th>\n",
       "      <td>Afghanistan</td>\n",
       "      <td>AFG</td>\n",
       "      <td>1968</td>\n",
       "      <td>8000</td>\n",
       "    </tr>\n",
       "    <tr>\n",
       "      <th>9</th>\n",
       "      <td>Afghanistan</td>\n",
       "      <td>AFG</td>\n",
       "      <td>1969</td>\n",
       "      <td>9600</td>\n",
       "    </tr>\n",
       "  </tbody>\n",
       "</table>\n",
       "</div>"
      ],
      "text/plain": [
       "  chicken-meat-production Unnamed: 1 Unnamed: 2  \\\n",
       "0                  Entity       Code       Year   \n",
       "1             Afghanistan        AFG       1961   \n",
       "2             Afghanistan        AFG       1962   \n",
       "3             Afghanistan        AFG       1963   \n",
       "4             Afghanistan        AFG       1964   \n",
       "5             Afghanistan        AFG       1965   \n",
       "6             Afghanistan        AFG       1966   \n",
       "7             Afghanistan        AFG       1967   \n",
       "8             Afghanistan        AFG       1968   \n",
       "9             Afghanistan        AFG       1969   \n",
       "\n",
       "                                          Unnamed: 3  \n",
       "0  Meat, chicken | 00001058 || Production | 00551...  \n",
       "1                                               5600  \n",
       "2                                               6000  \n",
       "3                                               6160  \n",
       "4                                               6400  \n",
       "5                                               6800  \n",
       "6                                               7200  \n",
       "7                                               7600  \n",
       "8                                               8000  \n",
       "9                                               9600  "
      ]
     },
     "execution_count": 420,
     "metadata": {},
     "output_type": "execute_result"
    }
   ],
   "source": [
    "filename1 = 'data/chicken-meat-production.xlsx' # Open the file and have a look at it\n",
    "pd.read_excel(filename1).head(10)"
   ]
  },
  {
   "cell_type": "markdown",
   "metadata": {},
   "source": [
    "There are several aspects to be cleaned in this dataset:\n",
    " \n",
    "**(1) Unnamed headings**: There are some 'unnamed' headings from row 1; we will be skipping that row.\n",
    "\n",
    "**(2) Last column title**: The final column title is unreadable, hence we will rename it.\n",
    "\n",
    "**(3) Dropping Codes**: For the purpose of our analysis the code column is not needed - some are country codes, some are other types of codes, and many are blank. We will remove this column. \n",
    "\n",
    "**(4) Year Names**: Having a variable named as a number can cause problems with some functions in python. Therefore, we will alter all dates from '[year]' to 'p[year]'\n",
    "\n",
    "**(5) Dropping Unnecessary Obseravations**: We are interested in the world consumption, not individual countries. We will be removing all entities that are countries. \n",
    "\n",
    "**(6) Ressetting the Index**: We then need to restart the Index\n",
    "\n"
   ]
  },
  {
   "cell_type": "code",
   "execution_count": 421,
   "metadata": {},
   "outputs": [
    {
     "data": {
      "text/html": [
       "<div>\n",
       "<style scoped>\n",
       "    .dataframe tbody tr th:only-of-type {\n",
       "        vertical-align: middle;\n",
       "    }\n",
       "\n",
       "    .dataframe tbody tr th {\n",
       "        vertical-align: top;\n",
       "    }\n",
       "\n",
       "    .dataframe thead th {\n",
       "        text-align: right;\n",
       "    }\n",
       "</style>\n",
       "<table border=\"1\" class=\"dataframe\">\n",
       "  <thead>\n",
       "    <tr style=\"text-align: right;\">\n",
       "      <th></th>\n",
       "      <th>Entity</th>\n",
       "      <th>Year</th>\n",
       "      <th>Chicken Production (per tonne)</th>\n",
       "    </tr>\n",
       "  </thead>\n",
       "  <tbody>\n",
       "    <tr>\n",
       "      <th>0</th>\n",
       "      <td>World</td>\n",
       "      <td>p1961</td>\n",
       "      <td>7555182.0</td>\n",
       "    </tr>\n",
       "    <tr>\n",
       "      <th>1</th>\n",
       "      <td>World</td>\n",
       "      <td>p1962</td>\n",
       "      <td>7883740.5</td>\n",
       "    </tr>\n",
       "    <tr>\n",
       "      <th>2</th>\n",
       "      <td>World</td>\n",
       "      <td>p1963</td>\n",
       "      <td>8371885.0</td>\n",
       "    </tr>\n",
       "    <tr>\n",
       "      <th>3</th>\n",
       "      <td>World</td>\n",
       "      <td>p1964</td>\n",
       "      <td>8676732.0</td>\n",
       "    </tr>\n",
       "    <tr>\n",
       "      <th>4</th>\n",
       "      <td>World</td>\n",
       "      <td>p1965</td>\n",
       "      <td>9414006.0</td>\n",
       "    </tr>\n",
       "  </tbody>\n",
       "</table>\n",
       "</div>"
      ],
      "text/plain": [
       "  Entity   Year  Chicken Production (per tonne)\n",
       "0  World  p1961                       7555182.0\n",
       "1  World  p1962                       7883740.5\n",
       "2  World  p1963                       8371885.0\n",
       "3  World  p1964                       8676732.0\n",
       "4  World  p1965                       9414006.0"
      ]
     },
     "execution_count": 421,
     "metadata": {},
     "output_type": "execute_result"
    }
   ],
   "source": [
    "# 1. Cleaning 'unnamed rows'\n",
    "chicken_prod_cleaner = DataCleaner(filename1, skip_rows=1)\n",
    "\n",
    "# 2. Fixing title heading for tonnes of production\n",
    "chicken_prod_cleaner.rename_columns({'Meat, chicken | 00001058 || Production | 005510 || tonnes':'Chicken Production (per tonne)'})\n",
    "\n",
    "# 3. Removing 'code' column\n",
    "chicken_prod_cleaner.drop_columns(['Code'])\n",
    "\n",
    "# 4. Setting up new year names\n",
    "chicken_prod_cleaner.new_year_name()\n",
    "\n",
    "# 5. Dropping all else except world consumption\n",
    "chicken_prod_cleaner.keep_rows('Entity','World')\n",
    "\n",
    "# 6. Fixing index, now that we have dropped a lot of rows\n",
    "chicken_prod_cleaner.restart_index()\n",
    "chicken_prod= chicken_prod_cleaner.get_cleaned_data()\n",
    "\n",
    "# Final Check\n",
    "chicken_prod.head()\n"
   ]
  },
  {
   "cell_type": "markdown",
   "metadata": {},
   "source": [
    "As we can see in our final check, our clean has worked, and we will now move on with the same process, using our **DataCleaner** file for simplicity and neatness."
   ]
  },
  {
   "cell_type": "markdown",
   "metadata": {},
   "source": [
    "# Usage of Internet"
   ]
  },
  {
   "cell_type": "code",
   "execution_count": 422,
   "metadata": {},
   "outputs": [
    {
     "data": {
      "text/html": [
       "<div>\n",
       "<style scoped>\n",
       "    .dataframe tbody tr th:only-of-type {\n",
       "        vertical-align: middle;\n",
       "    }\n",
       "\n",
       "    .dataframe tbody tr th {\n",
       "        vertical-align: top;\n",
       "    }\n",
       "\n",
       "    .dataframe thead th {\n",
       "        text-align: right;\n",
       "    }\n",
       "</style>\n",
       "<table border=\"1\" class=\"dataframe\">\n",
       "  <thead>\n",
       "    <tr style=\"text-align: right;\">\n",
       "      <th></th>\n",
       "      <th>ict-adoption-per-100-people</th>\n",
       "      <th>Unnamed: 1</th>\n",
       "      <th>Unnamed: 2</th>\n",
       "      <th>Unnamed: 3</th>\n",
       "      <th>Unnamed: 4</th>\n",
       "      <th>Unnamed: 5</th>\n",
       "      <th>Unnamed: 6</th>\n",
       "    </tr>\n",
       "  </thead>\n",
       "  <tbody>\n",
       "    <tr>\n",
       "      <th>0</th>\n",
       "      <td>Entity</td>\n",
       "      <td>Code</td>\n",
       "      <td>Year</td>\n",
       "      <td>Fixed telephone subscriptions (per 100 people)</td>\n",
       "      <td>Fixed broadband subscriptions (per 100 people)</td>\n",
       "      <td>Mobile cellular subscriptions (per 100 people)</td>\n",
       "      <td>Individuals using the Internet (% of population)</td>\n",
       "    </tr>\n",
       "    <tr>\n",
       "      <th>1</th>\n",
       "      <td>Afghanistan</td>\n",
       "      <td>AFG</td>\n",
       "      <td>1960</td>\n",
       "      <td>0.089302</td>\n",
       "      <td>NaN</td>\n",
       "      <td>0</td>\n",
       "      <td>NaN</td>\n",
       "    </tr>\n",
       "    <tr>\n",
       "      <th>2</th>\n",
       "      <td>Afghanistan</td>\n",
       "      <td>AFG</td>\n",
       "      <td>1961</td>\n",
       "      <td>0.085584</td>\n",
       "      <td>NaN</td>\n",
       "      <td>NaN</td>\n",
       "      <td>NaN</td>\n",
       "    </tr>\n",
       "    <tr>\n",
       "      <th>3</th>\n",
       "      <td>Afghanistan</td>\n",
       "      <td>AFG</td>\n",
       "      <td>1962</td>\n",
       "      <td>0.085584</td>\n",
       "      <td>NaN</td>\n",
       "      <td>NaN</td>\n",
       "      <td>NaN</td>\n",
       "    </tr>\n",
       "    <tr>\n",
       "      <th>4</th>\n",
       "      <td>Afghanistan</td>\n",
       "      <td>AFG</td>\n",
       "      <td>1963</td>\n",
       "      <td>0.085584</td>\n",
       "      <td>NaN</td>\n",
       "      <td>NaN</td>\n",
       "      <td>NaN</td>\n",
       "    </tr>\n",
       "  </tbody>\n",
       "</table>\n",
       "</div>"
      ],
      "text/plain": [
       "  ict-adoption-per-100-people Unnamed: 1 Unnamed: 2  \\\n",
       "0                      Entity       Code       Year   \n",
       "1                 Afghanistan        AFG       1960   \n",
       "2                 Afghanistan        AFG       1961   \n",
       "3                 Afghanistan        AFG       1962   \n",
       "4                 Afghanistan        AFG       1963   \n",
       "\n",
       "                                       Unnamed: 3  \\\n",
       "0  Fixed telephone subscriptions (per 100 people)   \n",
       "1                                        0.089302   \n",
       "2                                        0.085584   \n",
       "3                                        0.085584   \n",
       "4                                        0.085584   \n",
       "\n",
       "                                       Unnamed: 4  \\\n",
       "0  Fixed broadband subscriptions (per 100 people)   \n",
       "1                                             NaN   \n",
       "2                                             NaN   \n",
       "3                                             NaN   \n",
       "4                                             NaN   \n",
       "\n",
       "                                       Unnamed: 5  \\\n",
       "0  Mobile cellular subscriptions (per 100 people)   \n",
       "1                                               0   \n",
       "2                                             NaN   \n",
       "3                                             NaN   \n",
       "4                                             NaN   \n",
       "\n",
       "                                         Unnamed: 6  \n",
       "0  Individuals using the Internet (% of population)  \n",
       "1                                               NaN  \n",
       "2                                               NaN  \n",
       "3                                               NaN  \n",
       "4                                               NaN  "
      ]
     },
     "execution_count": 422,
     "metadata": {},
     "output_type": "execute_result"
    }
   ],
   "source": [
    "filename2 = 'data/ict-adoption-per-100-people.xlsx' # open the file and have a look at it\n",
    "pd.read_excel(filename2).head(5)"
   ]
  },
  {
   "cell_type": "markdown",
   "metadata": {},
   "source": [
    "Here, we have the same data cleaning process as done above, as well as dropping the missing values to avoid data inconsistencies.   "
   ]
  },
  {
   "cell_type": "code",
   "execution_count": 423,
   "metadata": {},
   "outputs": [
    {
     "data": {
      "text/html": [
       "<div>\n",
       "<style scoped>\n",
       "    .dataframe tbody tr th:only-of-type {\n",
       "        vertical-align: middle;\n",
       "    }\n",
       "\n",
       "    .dataframe tbody tr th {\n",
       "        vertical-align: top;\n",
       "    }\n",
       "\n",
       "    .dataframe thead th {\n",
       "        text-align: right;\n",
       "    }\n",
       "</style>\n",
       "<table border=\"1\" class=\"dataframe\">\n",
       "  <thead>\n",
       "    <tr style=\"text-align: right;\">\n",
       "      <th></th>\n",
       "      <th>Entity</th>\n",
       "      <th>Year</th>\n",
       "      <th>Individuals using the Internet (% of population)</th>\n",
       "    </tr>\n",
       "  </thead>\n",
       "  <tbody>\n",
       "    <tr>\n",
       "      <th>0</th>\n",
       "      <td>World</td>\n",
       "      <td>p1990</td>\n",
       "      <td>0.048825</td>\n",
       "    </tr>\n",
       "    <tr>\n",
       "      <th>1</th>\n",
       "      <td>World</td>\n",
       "      <td>p1991</td>\n",
       "      <td>0.078811</td>\n",
       "    </tr>\n",
       "    <tr>\n",
       "      <th>2</th>\n",
       "      <td>World</td>\n",
       "      <td>p1992</td>\n",
       "      <td>0.125186</td>\n",
       "    </tr>\n",
       "    <tr>\n",
       "      <th>3</th>\n",
       "      <td>World</td>\n",
       "      <td>p1993</td>\n",
       "      <td>0.179007</td>\n",
       "    </tr>\n",
       "    <tr>\n",
       "      <th>4</th>\n",
       "      <td>World</td>\n",
       "      <td>p1994</td>\n",
       "      <td>0.360508</td>\n",
       "    </tr>\n",
       "  </tbody>\n",
       "</table>\n",
       "</div>"
      ],
      "text/plain": [
       "  Entity   Year  Individuals using the Internet (% of population)\n",
       "0  World  p1990                                          0.048825\n",
       "1  World  p1991                                          0.078811\n",
       "2  World  p1992                                          0.125186\n",
       "3  World  p1993                                          0.179007\n",
       "4  World  p1994                                          0.360508"
      ]
     },
     "execution_count": 423,
     "metadata": {},
     "output_type": "execute_result"
    }
   ],
   "source": [
    "#Clean tech data\n",
    "tech_cleaner = DataCleaner(filename2, skip_rows=1)\n",
    "tech_cleaner.drop_columns(['Code','Fixed telephone subscriptions (per 100 people)' , 'Fixed broadband subscriptions (per 100 people)', 'Mobile cellular subscriptions (per 100 people)'])\n",
    "tech_cleaner.new_year_name()\n",
    "tech_cleaner.keep_rows('Entity','World')\n",
    "tech_cleaner.drop_missing_values()\n",
    "tech_cleaner.restart_index()\n",
    "tech = tech_cleaner.get_cleaned_data()\n",
    "\n",
    "tech.head()"
   ]
  },
  {
   "cell_type": "markdown",
   "metadata": {},
   "source": [
    "# GDP per Capita"
   ]
  },
  {
   "cell_type": "code",
   "execution_count": 424,
   "metadata": {},
   "outputs": [
    {
     "data": {
      "text/html": [
       "<div>\n",
       "<style scoped>\n",
       "    .dataframe tbody tr th:only-of-type {\n",
       "        vertical-align: middle;\n",
       "    }\n",
       "\n",
       "    .dataframe tbody tr th {\n",
       "        vertical-align: top;\n",
       "    }\n",
       "\n",
       "    .dataframe thead th {\n",
       "        text-align: right;\n",
       "    }\n",
       "</style>\n",
       "<table border=\"1\" class=\"dataframe\">\n",
       "  <thead>\n",
       "    <tr style=\"text-align: right;\">\n",
       "      <th></th>\n",
       "      <th>gdp-per-capita-maddison</th>\n",
       "      <th>Unnamed: 1</th>\n",
       "      <th>Unnamed: 2</th>\n",
       "      <th>Unnamed: 3</th>\n",
       "      <th>Unnamed: 4</th>\n",
       "    </tr>\n",
       "  </thead>\n",
       "  <tbody>\n",
       "    <tr>\n",
       "      <th>0</th>\n",
       "      <td>Entity</td>\n",
       "      <td>Code</td>\n",
       "      <td>Year</td>\n",
       "      <td>GDP per capita</td>\n",
       "      <td>417485-annotations</td>\n",
       "    </tr>\n",
       "    <tr>\n",
       "      <th>1</th>\n",
       "      <td>Afghanistan</td>\n",
       "      <td>AFG</td>\n",
       "      <td>1950</td>\n",
       "      <td>1156</td>\n",
       "      <td>NaN</td>\n",
       "    </tr>\n",
       "    <tr>\n",
       "      <th>2</th>\n",
       "      <td>Afghanistan</td>\n",
       "      <td>AFG</td>\n",
       "      <td>1951</td>\n",
       "      <td>1170</td>\n",
       "      <td>NaN</td>\n",
       "    </tr>\n",
       "    <tr>\n",
       "      <th>3</th>\n",
       "      <td>Afghanistan</td>\n",
       "      <td>AFG</td>\n",
       "      <td>1952</td>\n",
       "      <td>1189</td>\n",
       "      <td>NaN</td>\n",
       "    </tr>\n",
       "    <tr>\n",
       "      <th>4</th>\n",
       "      <td>Afghanistan</td>\n",
       "      <td>AFG</td>\n",
       "      <td>1953</td>\n",
       "      <td>1240</td>\n",
       "      <td>NaN</td>\n",
       "    </tr>\n",
       "  </tbody>\n",
       "</table>\n",
       "</div>"
      ],
      "text/plain": [
       "  gdp-per-capita-maddison Unnamed: 1 Unnamed: 2      Unnamed: 3  \\\n",
       "0                  Entity       Code       Year  GDP per capita   \n",
       "1             Afghanistan        AFG       1950            1156   \n",
       "2             Afghanistan        AFG       1951            1170   \n",
       "3             Afghanistan        AFG       1952            1189   \n",
       "4             Afghanistan        AFG       1953            1240   \n",
       "\n",
       "           Unnamed: 4  \n",
       "0  417485-annotations  \n",
       "1                 NaN  \n",
       "2                 NaN  \n",
       "3                 NaN  \n",
       "4                 NaN  "
      ]
     },
     "execution_count": 424,
     "metadata": {},
     "output_type": "execute_result"
    }
   ],
   "source": [
    "filename3 = 'data/gdp-per-capita-maddison.xlsx' # open the file and have a look at it\n",
    "pd.read_excel(filename3).head(5)"
   ]
  },
  {
   "cell_type": "code",
   "execution_count": 425,
   "metadata": {},
   "outputs": [
    {
     "data": {
      "text/html": [
       "<div>\n",
       "<style scoped>\n",
       "    .dataframe tbody tr th:only-of-type {\n",
       "        vertical-align: middle;\n",
       "    }\n",
       "\n",
       "    .dataframe tbody tr th {\n",
       "        vertical-align: top;\n",
       "    }\n",
       "\n",
       "    .dataframe thead th {\n",
       "        text-align: right;\n",
       "    }\n",
       "</style>\n",
       "<table border=\"1\" class=\"dataframe\">\n",
       "  <thead>\n",
       "    <tr style=\"text-align: right;\">\n",
       "      <th></th>\n",
       "      <th>Entity</th>\n",
       "      <th>Year</th>\n",
       "      <th>GDP per capita</th>\n",
       "    </tr>\n",
       "  </thead>\n",
       "  <tbody>\n",
       "    <tr>\n",
       "      <th>0</th>\n",
       "      <td>United States</td>\n",
       "      <td>p1650</td>\n",
       "      <td>897.0000</td>\n",
       "    </tr>\n",
       "    <tr>\n",
       "      <th>1</th>\n",
       "      <td>United States</td>\n",
       "      <td>p1720</td>\n",
       "      <td>1768.9856</td>\n",
       "    </tr>\n",
       "    <tr>\n",
       "      <th>2</th>\n",
       "      <td>United States</td>\n",
       "      <td>p1775</td>\n",
       "      <td>2419.0000</td>\n",
       "    </tr>\n",
       "    <tr>\n",
       "      <th>3</th>\n",
       "      <td>United States</td>\n",
       "      <td>p1800</td>\n",
       "      <td>2545.4880</td>\n",
       "    </tr>\n",
       "    <tr>\n",
       "      <th>4</th>\n",
       "      <td>United States</td>\n",
       "      <td>p1801</td>\n",
       "      <td>2591.7695</td>\n",
       "    </tr>\n",
       "  </tbody>\n",
       "</table>\n",
       "</div>"
      ],
      "text/plain": [
       "          Entity   Year  GDP per capita\n",
       "0  United States  p1650        897.0000\n",
       "1  United States  p1720       1768.9856\n",
       "2  United States  p1775       2419.0000\n",
       "3  United States  p1800       2545.4880\n",
       "4  United States  p1801       2591.7695"
      ]
     },
     "execution_count": 425,
     "metadata": {},
     "output_type": "execute_result"
    }
   ],
   "source": [
    "# Clean GDP data\n",
    "gdp_cleaner = DataCleaner(filename3, skip_rows=1)\n",
    "gdp_cleaner.drop_columns(['Code','417485-annotations'])\n",
    "gdp_cleaner.new_year_name()\n",
    "gdp_cleaner.keep_rows('Entity','United States')\n",
    "gdp_cleaner.drop_missing_values()\n",
    "gdp_cleaner.restart_index()\n",
    "gdp_data = gdp_cleaner.get_cleaned_data()\n",
    "\n",
    "\n",
    "gdp_data.head()"
   ]
  },
  {
   "cell_type": "markdown",
   "metadata": {},
   "source": [
    "# Life Expectancy"
   ]
  },
  {
   "cell_type": "code",
   "execution_count": 426,
   "metadata": {},
   "outputs": [
    {
     "data": {
      "text/html": [
       "<div>\n",
       "<style scoped>\n",
       "    .dataframe tbody tr th:only-of-type {\n",
       "        vertical-align: middle;\n",
       "    }\n",
       "\n",
       "    .dataframe tbody tr th {\n",
       "        vertical-align: top;\n",
       "    }\n",
       "\n",
       "    .dataframe thead th {\n",
       "        text-align: right;\n",
       "    }\n",
       "</style>\n",
       "<table border=\"1\" class=\"dataframe\">\n",
       "  <thead>\n",
       "    <tr style=\"text-align: right;\">\n",
       "      <th></th>\n",
       "      <th>life-expectancy</th>\n",
       "      <th>Unnamed: 1</th>\n",
       "      <th>Unnamed: 2</th>\n",
       "      <th>Unnamed: 3</th>\n",
       "    </tr>\n",
       "  </thead>\n",
       "  <tbody>\n",
       "    <tr>\n",
       "      <th>0</th>\n",
       "      <td>Entity</td>\n",
       "      <td>Code</td>\n",
       "      <td>Year</td>\n",
       "      <td>Period life expectancy at birth - Sex: all - A...</td>\n",
       "    </tr>\n",
       "    <tr>\n",
       "      <th>1</th>\n",
       "      <td>Afghanistan</td>\n",
       "      <td>AFG</td>\n",
       "      <td>1950</td>\n",
       "      <td>27.7275</td>\n",
       "    </tr>\n",
       "    <tr>\n",
       "      <th>2</th>\n",
       "      <td>Afghanistan</td>\n",
       "      <td>AFG</td>\n",
       "      <td>1951</td>\n",
       "      <td>27.9634</td>\n",
       "    </tr>\n",
       "    <tr>\n",
       "      <th>3</th>\n",
       "      <td>Afghanistan</td>\n",
       "      <td>AFG</td>\n",
       "      <td>1952</td>\n",
       "      <td>28.4456</td>\n",
       "    </tr>\n",
       "    <tr>\n",
       "      <th>4</th>\n",
       "      <td>Afghanistan</td>\n",
       "      <td>AFG</td>\n",
       "      <td>1953</td>\n",
       "      <td>28.9304</td>\n",
       "    </tr>\n",
       "  </tbody>\n",
       "</table>\n",
       "</div>"
      ],
      "text/plain": [
       "  life-expectancy Unnamed: 1 Unnamed: 2  \\\n",
       "0          Entity       Code       Year   \n",
       "1     Afghanistan        AFG       1950   \n",
       "2     Afghanistan        AFG       1951   \n",
       "3     Afghanistan        AFG       1952   \n",
       "4     Afghanistan        AFG       1953   \n",
       "\n",
       "                                          Unnamed: 3  \n",
       "0  Period life expectancy at birth - Sex: all - A...  \n",
       "1                                            27.7275  \n",
       "2                                            27.9634  \n",
       "3                                            28.4456  \n",
       "4                                            28.9304  "
      ]
     },
     "execution_count": 426,
     "metadata": {},
     "output_type": "execute_result"
    }
   ],
   "source": [
    "filename4 = 'data/life-expectancy.xlsx' # open the file and have a look at it\n",
    "pd.read_excel(filename4).head(5)"
   ]
  },
  {
   "cell_type": "code",
   "execution_count": 427,
   "metadata": {},
   "outputs": [
    {
     "data": {
      "text/html": [
       "<div>\n",
       "<style scoped>\n",
       "    .dataframe tbody tr th:only-of-type {\n",
       "        vertical-align: middle;\n",
       "    }\n",
       "\n",
       "    .dataframe tbody tr th {\n",
       "        vertical-align: top;\n",
       "    }\n",
       "\n",
       "    .dataframe thead th {\n",
       "        text-align: right;\n",
       "    }\n",
       "</style>\n",
       "<table border=\"1\" class=\"dataframe\">\n",
       "  <thead>\n",
       "    <tr style=\"text-align: right;\">\n",
       "      <th></th>\n",
       "      <th>Entity</th>\n",
       "      <th>Year</th>\n",
       "      <th>Life expectancy at birth (years)</th>\n",
       "    </tr>\n",
       "  </thead>\n",
       "  <tbody>\n",
       "    <tr>\n",
       "      <th>0</th>\n",
       "      <td>United States</td>\n",
       "      <td>p1880</td>\n",
       "      <td>39.41</td>\n",
       "    </tr>\n",
       "    <tr>\n",
       "      <th>1</th>\n",
       "      <td>United States</td>\n",
       "      <td>p1890</td>\n",
       "      <td>45.21</td>\n",
       "    </tr>\n",
       "    <tr>\n",
       "      <th>2</th>\n",
       "      <td>United States</td>\n",
       "      <td>p1901</td>\n",
       "      <td>49.30</td>\n",
       "    </tr>\n",
       "    <tr>\n",
       "      <th>3</th>\n",
       "      <td>United States</td>\n",
       "      <td>p1902</td>\n",
       "      <td>50.50</td>\n",
       "    </tr>\n",
       "    <tr>\n",
       "      <th>4</th>\n",
       "      <td>United States</td>\n",
       "      <td>p1903</td>\n",
       "      <td>50.60</td>\n",
       "    </tr>\n",
       "  </tbody>\n",
       "</table>\n",
       "</div>"
      ],
      "text/plain": [
       "          Entity   Year  Life expectancy at birth (years)\n",
       "0  United States  p1880                             39.41\n",
       "1  United States  p1890                             45.21\n",
       "2  United States  p1901                             49.30\n",
       "3  United States  p1902                             50.50\n",
       "4  United States  p1903                             50.60"
      ]
     },
     "execution_count": 427,
     "metadata": {},
     "output_type": "execute_result"
    }
   ],
   "source": [
    "# Clean Life Expectancy data\n",
    "life_exp_cleaner = DataCleaner(filename4, skip_rows=1)\n",
    "life_exp_cleaner.rename_columns({'Period life expectancy at birth - Sex: all - Age: 0':'Life expectancy at birth (years)'})\n",
    "life_exp_cleaner.drop_columns('Code')\n",
    "life_exp_cleaner.new_year_name()\n",
    "life_exp_cleaner.keep_rows('Entity','United States')\n",
    "life_exp_cleaner.drop_missing_values()\n",
    "life_exp_cleaner.restart_index()\n",
    "life_exp_data = life_exp_cleaner.get_cleaned_data()\n",
    "\n",
    "\n",
    "life_exp_data.head()"
   ]
  },
  {
   "cell_type": "markdown",
   "metadata": {},
   "source": [
    "### 2.3. <a id='toc2_3'></a>[Merging](#toc0)"
   ]
  },
  {
   "cell_type": "markdown",
   "metadata": {},
   "source": [
    "To analyse the correlations, we need to merge the two relevant data sets together. We begin by examining the number of years and regions each one has. "
   ]
  },
  {
   "cell_type": "markdown",
   "metadata": {},
   "source": [
    "# Chicken Production + Internet Usage"
   ]
  },
  {
   "cell_type": "code",
   "execution_count": 428,
   "metadata": {},
   "outputs": [
    {
     "name": "stdout",
     "output_type": "stream",
     "text": [
      "Years in Chicken Production: ['p1961' 'p1962' 'p1963' 'p1964' 'p1965' 'p1966' 'p1967' 'p1968' 'p1969'\n",
      " 'p1970' 'p1971' 'p1972' 'p1973' 'p1974' 'p1975' 'p1976' 'p1977' 'p1978'\n",
      " 'p1979' 'p1980' 'p1981' 'p1982' 'p1983' 'p1984' 'p1985' 'p1986' 'p1987'\n",
      " 'p1988' 'p1989' 'p1990' 'p1991' 'p1992' 'p1993' 'p1994' 'p1995' 'p1996'\n",
      " 'p1997' 'p1998' 'p1999' 'p2000' 'p2001' 'p2002' 'p2003' 'p2004' 'p2005'\n",
      " 'p2006' 'p2007' 'p2008' 'p2009' 'p2010' 'p2011' 'p2012' 'p2013' 'p2014'\n",
      " 'p2015' 'p2016' 'p2017' 'p2018' 'p2019' 'p2020' 'p2021' 'p2022']\n",
      "Regions in Chicken Production = 1\n",
      "Years in Communication Technology : ['p1990' 'p1991' 'p1992' 'p1993' 'p1994' 'p1995' 'p1996' 'p1997' 'p1998'\n",
      " 'p1999' 'p2000' 'p2001' 'p2002' 'p2003' 'p2004' 'p2005' 'p2006' 'p2007'\n",
      " 'p2008' 'p2009' 'p2010' 'p2011' 'p2012' 'p2013' 'p2014' 'p2015' 'p2016'\n",
      " 'p2017' 'p2018' 'p2019' 'p2020']\n",
      "Regions in Communication Technology = 1\n"
     ]
    }
   ],
   "source": [
    "print(f'Years in Chicken Production: {chicken_prod.Year.unique()}')\n",
    "print(f'Regions in Chicken Production = {len(chicken_prod.Entity.unique())}')\n",
    "print(f'Years in Communication Technology : {tech.Year.unique()}')\n",
    "print(f'Regions in Communication Technology = {len(tech.Entity.unique())}')"
   ]
  },
  {
   "cell_type": "code",
   "execution_count": 429,
   "metadata": {},
   "outputs": [
    {
     "name": "stdout",
     "output_type": "stream",
     "text": [
      "Years in Chicken Production data, but not in Communication Technology data: ['p1961', 'p1962', 'p1963', 'p1964', 'p1965', 'p1966', 'p1967', 'p1968', 'p1969', 'p1970', 'p1971', 'p1972', 'p1973', 'p1974', 'p1975', 'p1976', 'p1977', 'p1978', 'p1979', 'p1980', 'p1981', 'p1982', 'p1983', 'p1984', 'p1985', 'p1986', 'p1987', 'p1988', 'p1989', 'p2021', 'p2022']\n"
     ]
    }
   ],
   "source": [
    "# Finding Differences:\n",
    "diff_y = [y for y in chicken_prod.Year.unique() if y not in tech.Year.unique()] \n",
    "print(f'Years in Chicken Production data, but not in Communication Technology data: {diff_y}')\n"
   ]
  },
  {
   "cell_type": "markdown",
   "metadata": {},
   "source": [
    "We can see that Chicken production data covers more years than the Communication Technology dataset. However, since the purpose of this analysis is to compute correlations, we want to avoid having missing values for Communication Technology. Therefore, we will use the **inner** merging method. This method ensures that we merge only the years that both datasets have in common, thereby dropping the remaining years. "
   ]
  },
  {
   "cell_type": "code",
   "execution_count": 430,
   "metadata": {},
   "outputs": [
    {
     "name": "stdout",
     "output_type": "stream",
     "text": [
      "Number of years          = 31\n"
     ]
    },
    {
     "data": {
      "text/html": [
       "<div>\n",
       "<style scoped>\n",
       "    .dataframe tbody tr th:only-of-type {\n",
       "        vertical-align: middle;\n",
       "    }\n",
       "\n",
       "    .dataframe tbody tr th {\n",
       "        vertical-align: top;\n",
       "    }\n",
       "\n",
       "    .dataframe thead th {\n",
       "        text-align: right;\n",
       "    }\n",
       "</style>\n",
       "<table border=\"1\" class=\"dataframe\">\n",
       "  <thead>\n",
       "    <tr style=\"text-align: right;\">\n",
       "      <th></th>\n",
       "      <th>Entity</th>\n",
       "      <th>Year</th>\n",
       "      <th>Chicken Production (per tonne)</th>\n",
       "      <th>Individuals using the Internet (% of population)</th>\n",
       "    </tr>\n",
       "  </thead>\n",
       "  <tbody>\n",
       "    <tr>\n",
       "      <th>0</th>\n",
       "      <td>World</td>\n",
       "      <td>p1990</td>\n",
       "      <td>35415424.0</td>\n",
       "      <td>0.048825</td>\n",
       "    </tr>\n",
       "    <tr>\n",
       "      <th>1</th>\n",
       "      <td>World</td>\n",
       "      <td>p1991</td>\n",
       "      <td>38191256.0</td>\n",
       "      <td>0.078811</td>\n",
       "    </tr>\n",
       "    <tr>\n",
       "      <th>2</th>\n",
       "      <td>World</td>\n",
       "      <td>p1992</td>\n",
       "      <td>39851016.0</td>\n",
       "      <td>0.125186</td>\n",
       "    </tr>\n",
       "    <tr>\n",
       "      <th>3</th>\n",
       "      <td>World</td>\n",
       "      <td>p1993</td>\n",
       "      <td>42397028.0</td>\n",
       "      <td>0.179007</td>\n",
       "    </tr>\n",
       "    <tr>\n",
       "      <th>4</th>\n",
       "      <td>World</td>\n",
       "      <td>p1994</td>\n",
       "      <td>44822450.0</td>\n",
       "      <td>0.360508</td>\n",
       "    </tr>\n",
       "    <tr>\n",
       "      <th>5</th>\n",
       "      <td>World</td>\n",
       "      <td>p1995</td>\n",
       "      <td>47566492.0</td>\n",
       "      <td>0.683082</td>\n",
       "    </tr>\n",
       "    <tr>\n",
       "      <th>6</th>\n",
       "      <td>World</td>\n",
       "      <td>p1996</td>\n",
       "      <td>49159212.0</td>\n",
       "      <td>1.326567</td>\n",
       "    </tr>\n",
       "    <tr>\n",
       "      <th>7</th>\n",
       "      <td>World</td>\n",
       "      <td>p1997</td>\n",
       "      <td>52318396.0</td>\n",
       "      <td>2.042697</td>\n",
       "    </tr>\n",
       "    <tr>\n",
       "      <th>8</th>\n",
       "      <td>World</td>\n",
       "      <td>p1998</td>\n",
       "      <td>54535188.0</td>\n",
       "      <td>3.140580</td>\n",
       "    </tr>\n",
       "    <tr>\n",
       "      <th>9</th>\n",
       "      <td>World</td>\n",
       "      <td>p1999</td>\n",
       "      <td>56892450.0</td>\n",
       "      <td>4.632903</td>\n",
       "    </tr>\n",
       "  </tbody>\n",
       "</table>\n",
       "</div>"
      ],
      "text/plain": [
       "  Entity   Year  Chicken Production (per tonne)  \\\n",
       "0  World  p1990                      35415424.0   \n",
       "1  World  p1991                      38191256.0   \n",
       "2  World  p1992                      39851016.0   \n",
       "3  World  p1993                      42397028.0   \n",
       "4  World  p1994                      44822450.0   \n",
       "5  World  p1995                      47566492.0   \n",
       "6  World  p1996                      49159212.0   \n",
       "7  World  p1997                      52318396.0   \n",
       "8  World  p1998                      54535188.0   \n",
       "9  World  p1999                      56892450.0   \n",
       "\n",
       "   Individuals using the Internet (% of population)  \n",
       "0                                          0.048825  \n",
       "1                                          0.078811  \n",
       "2                                          0.125186  \n",
       "3                                          0.179007  \n",
       "4                                          0.360508  \n",
       "5                                          0.683082  \n",
       "6                                          1.326567  \n",
       "7                                          2.042697  \n",
       "8                                          3.140580  \n",
       "9                                          4.632903  "
      ]
     },
     "execution_count": 430,
     "metadata": {},
     "output_type": "execute_result"
    }
   ],
   "source": [
    "# Inner Merging:\n",
    "chicken_tech = pd.merge(chicken_prod,tech,how='inner',on=['Entity','Year'])\n",
    "\n",
    "print(f'Number of years          = {len(chicken_tech.Year.unique())}')\n",
    "\n",
    "chicken_tech.head(10)"
   ]
  },
  {
   "cell_type": "markdown",
   "metadata": {},
   "source": [
    "# GDP per Capita + Life Expectancy"
   ]
  },
  {
   "cell_type": "markdown",
   "metadata": {},
   "source": [
    "The exact same reasoning is applied as above. "
   ]
  },
  {
   "cell_type": "code",
   "execution_count": 431,
   "metadata": {},
   "outputs": [
    {
     "name": "stdout",
     "output_type": "stream",
     "text": [
      "Years in GDP per Capita = 222\n",
      "Regions in GDP per Capita = 1\n",
      "Years in Life Expectancy = 123\n",
      "Regions in Life Expectancy = 1\n"
     ]
    }
   ],
   "source": [
    "print(f'Years in GDP per Capita = {len(gdp_data.Year.unique())}')\n",
    "print(f'Regions in GDP per Capita = {len(gdp_data.Entity.unique())}')\n",
    "print(f'Years in Life Expectancy = {len(life_exp_data.Year.unique())}')\n",
    "print(f'Regions in Life Expectancy = {len(life_exp_data.Entity.unique())}')"
   ]
  },
  {
   "cell_type": "code",
   "execution_count": 432,
   "metadata": {},
   "outputs": [
    {
     "name": "stdout",
     "output_type": "stream",
     "text": [
      "Years in GDP per Capita data, but not in Life Expectancy data: ['p1650', 'p1720', 'p1775', 'p1800', 'p1801', 'p1802', 'p1803', 'p1804', 'p1805', 'p1806', 'p1807', 'p1808', 'p1809', 'p1810', 'p1811', 'p1812', 'p1813', 'p1814', 'p1815', 'p1816', 'p1817', 'p1818', 'p1819', 'p1820', 'p1821', 'p1822', 'p1823', 'p1824', 'p1825', 'p1826', 'p1827', 'p1828', 'p1829', 'p1830', 'p1831', 'p1832', 'p1833', 'p1834', 'p1835', 'p1836', 'p1837', 'p1838', 'p1839', 'p1840', 'p1841', 'p1842', 'p1843', 'p1844', 'p1845', 'p1846', 'p1847', 'p1848', 'p1849', 'p1850', 'p1851', 'p1852', 'p1853', 'p1854', 'p1855', 'p1856', 'p1857', 'p1858', 'p1859', 'p1860', 'p1861', 'p1862', 'p1863', 'p1864', 'p1865', 'p1866', 'p1867', 'p1868', 'p1869', 'p1870', 'p1871', 'p1872', 'p1873', 'p1874', 'p1875', 'p1876', 'p1877', 'p1878', 'p1879', 'p1881', 'p1882', 'p1883', 'p1884', 'p1885', 'p1886', 'p1887', 'p1888', 'p1889', 'p1891', 'p1892', 'p1893', 'p1894', 'p1895', 'p1896', 'p1897', 'p1898', 'p1899', 'p1900']\n"
     ]
    }
   ],
   "source": [
    "# Finding Differences:\n",
    "diff_y = [y for y in gdp_data.Year.unique() if y not in life_exp_data.Year.unique()] \n",
    "print(f'Years in GDP per Capita data, but not in Life Expectancy data: {diff_y}')\n"
   ]
  },
  {
   "cell_type": "markdown",
   "metadata": {},
   "source": [
    "Given our analysis purposes, we use again the inner merge method. "
   ]
  },
  {
   "cell_type": "code",
   "execution_count": 433,
   "metadata": {},
   "outputs": [
    {
     "name": "stdout",
     "output_type": "stream",
     "text": [
      "Number of years          = 120\n"
     ]
    },
    {
     "data": {
      "text/html": [
       "<div>\n",
       "<style scoped>\n",
       "    .dataframe tbody tr th:only-of-type {\n",
       "        vertical-align: middle;\n",
       "    }\n",
       "\n",
       "    .dataframe tbody tr th {\n",
       "        vertical-align: top;\n",
       "    }\n",
       "\n",
       "    .dataframe thead th {\n",
       "        text-align: right;\n",
       "    }\n",
       "</style>\n",
       "<table border=\"1\" class=\"dataframe\">\n",
       "  <thead>\n",
       "    <tr style=\"text-align: right;\">\n",
       "      <th></th>\n",
       "      <th>Entity</th>\n",
       "      <th>Year</th>\n",
       "      <th>GDP per capita</th>\n",
       "      <th>Life expectancy at birth (years)</th>\n",
       "    </tr>\n",
       "  </thead>\n",
       "  <tbody>\n",
       "    <tr>\n",
       "      <th>0</th>\n",
       "      <td>United States</td>\n",
       "      <td>p1880</td>\n",
       "      <td>6255.7295</td>\n",
       "      <td>39.41</td>\n",
       "    </tr>\n",
       "    <tr>\n",
       "      <th>1</th>\n",
       "      <td>United States</td>\n",
       "      <td>p1890</td>\n",
       "      <td>6664.5503</td>\n",
       "      <td>45.21</td>\n",
       "    </tr>\n",
       "    <tr>\n",
       "      <th>2</th>\n",
       "      <td>United States</td>\n",
       "      <td>p1901</td>\n",
       "      <td>8770.3630</td>\n",
       "      <td>49.30</td>\n",
       "    </tr>\n",
       "    <tr>\n",
       "      <th>3</th>\n",
       "      <td>United States</td>\n",
       "      <td>p1902</td>\n",
       "      <td>8684.2280</td>\n",
       "      <td>50.50</td>\n",
       "    </tr>\n",
       "    <tr>\n",
       "      <th>4</th>\n",
       "      <td>United States</td>\n",
       "      <td>p1903</td>\n",
       "      <td>8941.3480</td>\n",
       "      <td>50.60</td>\n",
       "    </tr>\n",
       "    <tr>\n",
       "      <th>5</th>\n",
       "      <td>United States</td>\n",
       "      <td>p1904</td>\n",
       "      <td>8663.6580</td>\n",
       "      <td>49.60</td>\n",
       "    </tr>\n",
       "    <tr>\n",
       "      <th>6</th>\n",
       "      <td>United States</td>\n",
       "      <td>p1905</td>\n",
       "      <td>9121.3320</td>\n",
       "      <td>50.30</td>\n",
       "    </tr>\n",
       "    <tr>\n",
       "      <th>7</th>\n",
       "      <td>United States</td>\n",
       "      <td>p1906</td>\n",
       "      <td>9980.1130</td>\n",
       "      <td>50.10</td>\n",
       "    </tr>\n",
       "    <tr>\n",
       "      <th>8</th>\n",
       "      <td>United States</td>\n",
       "      <td>p1907</td>\n",
       "      <td>9950.5440</td>\n",
       "      <td>50.20</td>\n",
       "    </tr>\n",
       "    <tr>\n",
       "      <th>9</th>\n",
       "      <td>United States</td>\n",
       "      <td>p1908</td>\n",
       "      <td>8975.9770</td>\n",
       "      <td>51.90</td>\n",
       "    </tr>\n",
       "  </tbody>\n",
       "</table>\n",
       "</div>"
      ],
      "text/plain": [
       "          Entity   Year  GDP per capita  Life expectancy at birth (years)\n",
       "0  United States  p1880       6255.7295                             39.41\n",
       "1  United States  p1890       6664.5503                             45.21\n",
       "2  United States  p1901       8770.3630                             49.30\n",
       "3  United States  p1902       8684.2280                             50.50\n",
       "4  United States  p1903       8941.3480                             50.60\n",
       "5  United States  p1904       8663.6580                             49.60\n",
       "6  United States  p1905       9121.3320                             50.30\n",
       "7  United States  p1906       9980.1130                             50.10\n",
       "8  United States  p1907       9950.5440                             50.20\n",
       "9  United States  p1908       8975.9770                             51.90"
      ]
     },
     "execution_count": 433,
     "metadata": {},
     "output_type": "execute_result"
    }
   ],
   "source": [
    "# Inner Merging:\n",
    "gdp_life_exp = pd.merge(gdp_data,life_exp_data,how='inner',on=['Entity','Year'])\n",
    "\n",
    "print(f'Number of years          = {len(gdp_life_exp.Year.unique())}')\n",
    "\n",
    "gdp_life_exp.head(10)"
   ]
  },
  {
   "cell_type": "markdown",
   "metadata": {},
   "source": [
    "## 3. <a id='toc3'></a>[Plotting and Correlations](#toc0)"
   ]
  },
  {
   "cell_type": "markdown",
   "metadata": {},
   "source": [
    "A way to visualize possible correlations is by plotting the data series graphically:"
   ]
  },
  {
   "cell_type": "markdown",
   "metadata": {},
   "source": [
    "# GDP per Capita + Life Expectancy"
   ]
  },
  {
   "cell_type": "code",
   "execution_count": 434,
   "metadata": {},
   "outputs": [
    {
     "data": {
      "image/png": "[encoded data removed]",
      "text/plain": [
       "<Figure size 1400x700 with 2 Axes>"
      ]
     },
     "metadata": {},
     "output_type": "display_data"
    }
   ],
   "source": [
    "# Convert 'Year' from the format 'pYYYY' to 'YYYY' for cleaner graph\n",
    "gdp_life_exp['Year'] = gdp_life_exp['Year'].str.replace('p', '').astype(int)\n",
    "\n",
    "# Set the figure size\n",
    "plt.figure(figsize=(14, 7))\n",
    "\n",
    "# Plot GDP per capita data with the primary y-axis (left)\n",
    "ax1 = plt.gca()  # Get the current Axes instance on the current figure matching\n",
    "ax1.plot(gdp_life_exp['Year'], gdp_life_exp['GDP per capita'], color='r', label='GDP per capita')\n",
    "ax1.set_xlabel('Year')\n",
    "ax1.set_ylabel('GDP per capita ($)', color='r')\n",
    "ax1.tick_params(axis='y', labelcolor='r')\n",
    "\n",
    "# Create a secondary y-axis (right) that shares the same x-axis for life expectancy data\n",
    "ax2 = ax1.twinx()\n",
    "ax2.plot(gdp_life_exp['Year'], gdp_life_exp['Life expectancy at birth (years)'], color='g', label='Life Expectancy at Birth (years)')\n",
    "ax2.set_ylabel('Life Expectancy (years)', color='g')\n",
    "ax2.tick_params(axis='y', labelcolor='g')\n",
    "\n",
    "# Set the title and show the plot with the legend\n",
    "plt.title('US GDP per Capita and Life Expectancy Over Time')\n",
    "ax1.legend(loc='upper left')\n",
    "ax2.legend(loc='upper right')\n",
    "\n",
    "plt.show()\n"
   ]
  },
  {
   "cell_type": "markdown",
   "metadata": {},
   "source": [
    "The graph suggests that both US GDP per capita and Life expectancy move together, exhibiting an increasing trend over time. Let's examine the correlation coefficient to better understand these co-movements. "
   ]
  },
  {
   "cell_type": "code",
   "execution_count": 435,
   "metadata": {},
   "outputs": [
    {
     "name": "stdout",
     "output_type": "stream",
     "text": [
      "The correlation between U.S. GDP per Capita and Life Expectancy is: 0.8649575032867545\n"
     ]
    }
   ],
   "source": [
    "# Compute the correlation between chicken production and internet usage\n",
    "correlation = gdp_life_exp['GDP per capita'].corr(gdp_life_exp['Life expectancy at birth (years)'])\n",
    "\n",
    "print(f\"The correlation between U.S. GDP per Capita and Life Expectancy is: {correlation}\")"
   ]
  },
  {
   "cell_type": "markdown",
   "metadata": {},
   "source": [
    "# Chicken Production + Internet Usage"
   ]
  },
  {
   "cell_type": "code",
   "execution_count": 436,
   "metadata": {},
   "outputs": [
    {
     "data": {
      "image/png": "[encoded data removed]",
      "text/plain": [
       "<Figure size 1400x700 with 2 Axes>"
      ]
     },
     "metadata": {},
     "output_type": "display_data"
    }
   ],
   "source": [
    "# Convert 'Year' from the format 'pYYYY' to 'YYYY' for cleaner graph\n",
    "chicken_tech['Year'] = chicken_tech['Year'].str.replace('p', '').astype(int)\n",
    "\n",
    "# Set the figure size\n",
    "plt.figure(figsize=(14, 7))\n",
    "\n",
    "# As we are using two data sets with different measurement units, we will be defining two different y-axis (left and right):\n",
    "\n",
    "# Plot the Chicken Production data with the primary y-axis (left)\n",
    "ax1 = plt.gca()  # Get the current Axes instance on the current figure matching\n",
    "ax1.plot(chicken_tech['Year'], chicken_tech['Chicken Production (per tonne)'], color='r', label='Chicken Production (per tonne)')\n",
    "ax1.set_xlabel('Year')\n",
    "ax1.set_ylabel('Chicken Production (per tonne)', color='r')\n",
    "ax1.tick_params(axis='y', labelcolor='r')\n",
    "\n",
    "# Create a secondary y-axis (right) that shares the same x-axis for Internet data\n",
    "ax2 = ax1.twinx()\n",
    "ax2.plot(chicken_tech['Year'], chicken_tech['Individuals using the Internet (% of population)'], color='g', label='Individuals Using the Internet (% of population)')\n",
    "ax2.set_ylabel('Percentage of World Population (%)', color='b')\n",
    "ax2.tick_params(axis='y', labelcolor='b')\n",
    "\n",
    "# Set the title and show the plot with the legend\n",
    "plt.title('World Chicken Production and Internet Use Over Time')\n",
    "ax1.legend(loc='upper left')\n",
    "ax2.legend(loc='upper right')\n",
    "\n",
    "plt.show()"
   ]
  },
  {
   "cell_type": "markdown",
   "metadata": {},
   "source": [
    "The graph suggests that both World Chicken Production and percentage of Individuals using the internet move together, exhibiting an increasing trend over time. Let's examine the correlation coefficient to better understand these co-movements. "
   ]
  },
  {
   "cell_type": "code",
   "execution_count": 437,
   "metadata": {},
   "outputs": [
    {
     "name": "stdout",
     "output_type": "stream",
     "text": [
      "The correlation between chicken production and internet usage is: 0.9874445117601893\n"
     ]
    }
   ],
   "source": [
    "# Compute the correlation between chicken production and internet usage\n",
    "correlation = chicken_tech['Chicken Production (per tonne)'].corr(chicken_tech['Individuals using the Internet (% of population)'])\n",
    "\n",
    "print(f\"The correlation between chicken production and internet usage is: {correlation}\")"
   ]
  },
  {
   "cell_type": "markdown",
   "metadata": {},
   "source": [
    "## 4. <a id='toc4'></a>[Conclusion](#toc0)"
   ]
  },
  {
   "cell_type": "markdown",
   "metadata": {},
   "source": [
    "The correlation between U.S. GDP per Capita and Life Expectancy is 0.865. This result indicates a strong positive relationship between the two, suggesting that as GDP per capita increases, life expectancy tends to increase as well, and vice versa.\n",
    "\n",
    "Intuitively, this result makes sense. Higher GDP per capita typically indicates that a country is wealthier. Wealthier countries can invest more in healthcare infrastructure, medical research, and services, which can lead to better health outcomes and longer life expectancy.\n",
    "\n",
    "Our results also show that the correlation between chicken production and internet usage is 0.987. This is a very strong positive correlation, even larger than the correlation coefficient of GDP per capita and life expectancy! \n",
    "\n",
    "So... Can we assert that increased internet usage directly causes a rise in chicken production?\n",
    "\n",
    "Not really... \n",
    "\n",
    "This is an exemple of what is known as a spurious correlation, where two variables show a relationship not because one causes the other, but potentially due to coincidence, or because they are both influenced by a third factor, such as, possibly in this case, economic growth or technological development over time. \n",
    "\n",
    "Spurious correlations serve as a lesson in data analysis, emphasizing the importance of not mistaking correlation with causation. Without a theoretical basis or further analytical evidence to establish a cause-and-effect relationship, it is crucial to acknowledge that correlation alone can be highly misleading. This emphasises the necessity for rigorous statistical testing and analysis to discern true causal relationships from mere statistical artifacts."
   ]
  },
  {
   "cell_type": "code",
   "execution_count": 455,
   "metadata": {},
   "outputs": [
    {
     "data": {
      "text/html": [
       "<div>\n",
       "<style scoped>\n",
       "    .dataframe tbody tr th:only-of-type {\n",
       "        vertical-align: middle;\n",
       "    }\n",
       "\n",
       "    .dataframe tbody tr th {\n",
       "        vertical-align: top;\n",
       "    }\n",
       "\n",
       "    .dataframe thead th {\n",
       "        text-align: right;\n",
       "    }\n",
       "</style>\n",
       "<table border=\"1\" class=\"dataframe\">\n",
       "  <thead>\n",
       "    <tr style=\"text-align: right;\">\n",
       "      <th></th>\n",
       "      <th>Entity</th>\n",
       "      <th>Year</th>\n",
       "      <th>GDP per capita</th>\n",
       "      <th>Life expectancy at birth (years)</th>\n",
       "    </tr>\n",
       "  </thead>\n",
       "  <tbody>\n",
       "    <tr>\n",
       "      <th>0</th>\n",
       "      <td>United States</td>\n",
       "      <td>1880</td>\n",
       "      <td>6255.7295</td>\n",
       "      <td>39.41</td>\n",
       "    </tr>\n",
       "    <tr>\n",
       "      <th>1</th>\n",
       "      <td>United States</td>\n",
       "      <td>1890</td>\n",
       "      <td>6664.5503</td>\n",
       "      <td>45.21</td>\n",
       "    </tr>\n",
       "    <tr>\n",
       "      <th>2</th>\n",
       "      <td>United States</td>\n",
       "      <td>1901</td>\n",
       "      <td>8770.363</td>\n",
       "      <td>49.30</td>\n",
       "    </tr>\n",
       "    <tr>\n",
       "      <th>3</th>\n",
       "      <td>United States</td>\n",
       "      <td>1902</td>\n",
       "      <td>8684.228</td>\n",
       "      <td>50.50</td>\n",
       "    </tr>\n",
       "    <tr>\n",
       "      <th>4</th>\n",
       "      <td>United States</td>\n",
       "      <td>1903</td>\n",
       "      <td>8941.348</td>\n",
       "      <td>50.60</td>\n",
       "    </tr>\n",
       "  </tbody>\n",
       "</table>\n",
       "</div>"
      ],
      "text/plain": [
       "          Entity  Year GDP per capita  Life expectancy at birth (years)\n",
       "0  United States  1880      6255.7295                             39.41\n",
       "1  United States  1890      6664.5503                             45.21\n",
       "2  United States  1901       8770.363                             49.30\n",
       "3  United States  1902       8684.228                             50.50\n",
       "4  United States  1903       8941.348                             50.60"
      ]
     },
     "execution_count": 455,
     "metadata": {},
     "output_type": "execute_result"
    }
   ],
   "source": [
    "#new datafile:\n",
    "gdp_detrended = gdp_life_exp\n",
    "\n",
    "gdp_detrended.head()"
   ]
  },
  {
   "cell_type": "code",
   "execution_count": 456,
   "metadata": {},
   "outputs": [
    {
     "ename": "TypeError",
     "evalue": "unsupported operand type(s) for /: 'str' and 'int'",
     "output_type": "error",
     "traceback": [
      "\u001b[0;31m---------------------------------------------------------------------------\u001b[0m",
      "\u001b[0;31mTypeError\u001b[0m                                 Traceback (most recent call last)",
      "Cell \u001b[0;32mIn[456], line 3\u001b[0m\n\u001b[1;32m      1\u001b[0m \u001b[38;5;28;01mfrom\u001b[39;00m \u001b[38;5;21;01mscipy\u001b[39;00m\u001b[38;5;21;01m.\u001b[39;00m\u001b[38;5;21;01msignal\u001b[39;00m \u001b[38;5;28;01mimport\u001b[39;00m detrend\n\u001b[0;32m----> 3\u001b[0m detrended \u001b[38;5;241m=\u001b[39m detrend(gdp_life_exp[\u001b[38;5;124m'\u001b[39m\u001b[38;5;124mGDP per capita\u001b[39m\u001b[38;5;124m'\u001b[39m], \u001b[38;5;28mtype\u001b[39m\u001b[38;5;241m=\u001b[39m\u001b[38;5;124m'\u001b[39m\u001b[38;5;124mconstant\u001b[39m\u001b[38;5;124m'\u001b[39m)\n\u001b[1;32m      4\u001b[0m detrended \u001b[38;5;241m=\u001b[39m pd\u001b[38;5;241m.\u001b[39mSeries(detrended, index\u001b[38;5;241m=\u001b[39mgdp_life_exp\u001b[38;5;241m.\u001b[39mindex)\n",
      "File \u001b[0;32m~/anaconda3/lib/python3.11/site-packages/scipy/signal/_signaltools.py:3558\u001b[0m, in \u001b[0;36mdetrend\u001b[0;34m(data, axis, type, bp, overwrite_data)\u001b[0m\n\u001b[1;32m   3556\u001b[0m     dtype \u001b[38;5;241m=\u001b[39m \u001b[38;5;124m'\u001b[39m\u001b[38;5;124md\u001b[39m\u001b[38;5;124m'\u001b[39m\n\u001b[1;32m   3557\u001b[0m \u001b[38;5;28;01mif\u001b[39;00m \u001b[38;5;28mtype\u001b[39m \u001b[38;5;129;01min\u001b[39;00m [\u001b[38;5;124m'\u001b[39m\u001b[38;5;124mconstant\u001b[39m\u001b[38;5;124m'\u001b[39m, \u001b[38;5;124m'\u001b[39m\u001b[38;5;124mc\u001b[39m\u001b[38;5;124m'\u001b[39m]:\n\u001b[0;32m-> 3558\u001b[0m     ret \u001b[38;5;241m=\u001b[39m data \u001b[38;5;241m-\u001b[39m np\u001b[38;5;241m.\u001b[39mmean(data, axis, keepdims\u001b[38;5;241m=\u001b[39m\u001b[38;5;28;01mTrue\u001b[39;00m)\n\u001b[1;32m   3559\u001b[0m     \u001b[38;5;28;01mreturn\u001b[39;00m ret\n\u001b[1;32m   3560\u001b[0m \u001b[38;5;28;01melse\u001b[39;00m:\n",
      "File \u001b[0;32m~/anaconda3/lib/python3.11/site-packages/numpy/core/fromnumeric.py:3504\u001b[0m, in \u001b[0;36mmean\u001b[0;34m(a, axis, dtype, out, keepdims, where)\u001b[0m\n\u001b[1;32m   3501\u001b[0m     \u001b[38;5;28;01melse\u001b[39;00m:\n\u001b[1;32m   3502\u001b[0m         \u001b[38;5;28;01mreturn\u001b[39;00m mean(axis\u001b[38;5;241m=\u001b[39maxis, dtype\u001b[38;5;241m=\u001b[39mdtype, out\u001b[38;5;241m=\u001b[39mout, \u001b[38;5;241m*\u001b[39m\u001b[38;5;241m*\u001b[39mkwargs)\n\u001b[0;32m-> 3504\u001b[0m \u001b[38;5;28;01mreturn\u001b[39;00m _methods\u001b[38;5;241m.\u001b[39m_mean(a, axis\u001b[38;5;241m=\u001b[39maxis, dtype\u001b[38;5;241m=\u001b[39mdtype,\n\u001b[1;32m   3505\u001b[0m                       out\u001b[38;5;241m=\u001b[39mout, \u001b[38;5;241m*\u001b[39m\u001b[38;5;241m*\u001b[39mkwargs)\n",
      "File \u001b[0;32m~/anaconda3/lib/python3.11/site-packages/numpy/core/_methods.py:121\u001b[0m, in \u001b[0;36m_mean\u001b[0;34m(a, axis, dtype, out, keepdims, where)\u001b[0m\n\u001b[1;32m    119\u001b[0m \u001b[38;5;28;01mif\u001b[39;00m \u001b[38;5;28misinstance\u001b[39m(ret, mu\u001b[38;5;241m.\u001b[39mndarray):\n\u001b[1;32m    120\u001b[0m     \u001b[38;5;28;01mwith\u001b[39;00m _no_nep50_warning():\n\u001b[0;32m--> 121\u001b[0m         ret \u001b[38;5;241m=\u001b[39m um\u001b[38;5;241m.\u001b[39mtrue_divide(\n\u001b[1;32m    122\u001b[0m                 ret, rcount, out\u001b[38;5;241m=\u001b[39mret, casting\u001b[38;5;241m=\u001b[39m\u001b[38;5;124m'\u001b[39m\u001b[38;5;124munsafe\u001b[39m\u001b[38;5;124m'\u001b[39m, subok\u001b[38;5;241m=\u001b[39m\u001b[38;5;28;01mFalse\u001b[39;00m)\n\u001b[1;32m    123\u001b[0m     \u001b[38;5;28;01mif\u001b[39;00m is_float16_result \u001b[38;5;129;01mand\u001b[39;00m out \u001b[38;5;129;01mis\u001b[39;00m \u001b[38;5;28;01mNone\u001b[39;00m:\n\u001b[1;32m    124\u001b[0m         ret \u001b[38;5;241m=\u001b[39m arr\u001b[38;5;241m.\u001b[39mdtype\u001b[38;5;241m.\u001b[39mtype(ret)\n",
      "\u001b[0;31mTypeError\u001b[0m: unsupported operand type(s) for /: 'str' and 'int'"
     ]
    }
   ],
   "source": [
    "from scipy.signal import detrend\n",
    "\n",
    "detrended = detrend(gdp_life_exp['GDP per capita'], type='constant')\n",
    "detrended = pd.Series(detrended, index=gdp_life_exp.index)"
   ]
  }
 ],
 "metadata": {
  "kernelspec": {
   "display_name": "base",
   "language": "python",
   "name": "python3"
  },
  "language_info": {
   "codemirror_mode": {
    "name": "ipython",
    "version": 3
   },
   "file_extension": ".py",
   "mimetype": "text/x-python",
   "name": "python",
   "nbconvert_exporter": "python",
   "pygments_lexer": "ipython3",
   "version": "3.11.7"
  },
  "toc-autonumbering": true,
  "vscode": {
   "interpreter": {
    "hash": "47ef90cdf3004d3f859f1fb202523c65c07ba7c22eefd261b181f4744e2d0403"
   }
  }
 },
 "nbformat": 4,
 "nbformat_minor": 4
}
